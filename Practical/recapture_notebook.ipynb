{
 "cells": [
  {
   "cell_type": "markdown",
   "id": "57ee183b",
   "metadata": {},
   "source": [
    "### Notebook for recapture.csv\n",
    "\n",
    "#### 0. Read data, make some plots"
   ]
  },
  {
   "cell_type": "code",
   "execution_count": 1,
   "id": "e4362660",
   "metadata": {},
   "outputs": [
    {
     "data": {
      "text/html": [
       "<table class=\"dataframe\">\n",
       "<caption>A data.frame: 6 × 2</caption>\n",
       "<thead>\n",
       "\t<tr><th></th><th scope=col>day</th><th scope=col>length_diff</th></tr>\n",
       "\t<tr><th></th><th scope=col>&lt;dbl&gt;</th><th scope=col>&lt;int&gt;</th></tr>\n",
       "</thead>\n",
       "<tbody>\n",
       "\t<tr><th scope=row>1</th><td>1.015926</td><td>4</td></tr>\n",
       "\t<tr><th scope=row>2</th><td>0.945093</td><td>4</td></tr>\n",
       "\t<tr><th scope=row>3</th><td>1.040220</td><td>5</td></tr>\n",
       "\t<tr><th scope=row>4</th><td>2.057558</td><td>7</td></tr>\n",
       "\t<tr><th scope=row>5</th><td>1.929063</td><td>9</td></tr>\n",
       "\t<tr><th scope=row>6</th><td>1.565480</td><td>5</td></tr>\n",
       "</tbody>\n",
       "</table>\n"
      ],
      "text/latex": [
       "A data.frame: 6 × 2\n",
       "\\begin{tabular}{r|ll}\n",
       "  & day & length\\_diff\\\\\n",
       "  & <dbl> & <int>\\\\\n",
       "\\hline\n",
       "\t1 & 1.015926 & 4\\\\\n",
       "\t2 & 0.945093 & 4\\\\\n",
       "\t3 & 1.040220 & 5\\\\\n",
       "\t4 & 2.057558 & 7\\\\\n",
       "\t5 & 1.929063 & 9\\\\\n",
       "\t6 & 1.565480 & 5\\\\\n",
       "\\end{tabular}\n"
      ],
      "text/markdown": [
       "\n",
       "A data.frame: 6 × 2\n",
       "\n",
       "| <!--/--> | day &lt;dbl&gt; | length_diff &lt;int&gt; |\n",
       "|---|---|---|\n",
       "| 1 | 1.015926 | 4 |\n",
       "| 2 | 0.945093 | 4 |\n",
       "| 3 | 1.040220 | 5 |\n",
       "| 4 | 2.057558 | 7 |\n",
       "| 5 | 1.929063 | 9 |\n",
       "| 6 | 1.565480 | 5 |\n",
       "\n"
      ],
      "text/plain": [
       "  day      length_diff\n",
       "1 1.015926 4          \n",
       "2 0.945093 4          \n",
       "3 1.040220 5          \n",
       "4 2.057558 7          \n",
       "5 1.929063 9          \n",
       "6 1.565480 5          "
      ]
     },
     "metadata": {},
     "output_type": "display_data"
    },
    {
     "data": {
      "image/png": "[encoded data removed]",
      "text/plain": [
       "plot without title"
      ]
     },
     "metadata": {
      "image/png": {
       "height": 420,
       "width": 420
      }
     },
     "output_type": "display_data"
    }
   ],
   "source": [
    "# READ DATA\n",
    "recapture.data<-read.csv('recapture.csv', header=T)\n",
    "head(recapture.data)\n",
    "# SCATTER PLOT\n",
    "plot(recapture.data, pch=16)"
   ]
  },
  {
   "cell_type": "markdown",
   "id": "f635bded",
   "metadata": {},
   "source": [
    "#### 1. Log-likelihood function and maximisation\n",
    "I chose to model the error terms. Note that $\\epsilon_i$ are i.i.d. $N(0, \\sigma^2)$. <code>optim()</code> will find the best set of parameters such that those errors (distance between the observations and the fitted line) are as \"normal\" as possible, with mean 0 and a common variance. "
   ]
  },
  {
   "cell_type": "code",
   "execution_count": 2,
   "id": "63870a77",
   "metadata": {},
   "outputs": [],
   "source": [
    "# THE LOG-LIKELIHOOD FOR THE LINEAR REGRESSION\n",
    "# PARAMETERS HAVE TO BE INPUT AS A VECTOR\n",
    "regression.log.likelihood<-function(parm, dat)\n",
    "{\n",
    "# DEFINE THE PARAMETERS parm\n",
    "# WE HAVE THREE PARAMETERS: a, b, sigma. BE CAREFUL OF THE ORDER\n",
    "a<-parm[1]\n",
    "b<-parm[2]\n",
    "sigma<-parm[3]\n",
    "\n",
    "# DEFINE THE DATA dat\n",
    "# FIRST COLUMN IS x, SECOND COLUMN IS y\n",
    "x<-dat[,1]\n",
    "y<-dat[,2]\n",
    "\n",
    "# MODEL ON THE ERROR TERMS. VECTORISED\n",
    "error.term<-(y-a-b*x)\n",
    "# error.term[i] ARE IID NORMAL, WITH MEAN 0 AND A COMMON VARIANCE sigma^2\n",
    "density<-dnorm(error.term, mean=0, sd=sigma, log=T)\n",
    "\n",
    "# THE LOG-LIKELIHOOD IS THE SUM OF INDIVIDUAL LOG-DENSITY\n",
    "return(sum(density))\n",
    "}"
   ]
  },
  {
   "cell_type": "code",
   "execution_count": 3,
   "id": "28872312",
   "metadata": {},
   "outputs": [
    {
     "data": {
      "text/html": [
       "<dl>\n",
       "\t<dt>$par</dt>\n",
       "\t\t<dd><style>\n",
       ".list-inline {list-style: none; margin:0; padding: 0}\n",
       ".list-inline>li {display: inline-block}\n",
       ".list-inline>li:not(:last-child)::after {content: \"\\00b7\"; padding: 0 .5ex}\n",
       "</style>\n",
       "<ol class=list-inline><li>1.52786962955893</li><li>2.67623955120876</li><li>2.67842846872727</li></ol>\n",
       "</dd>\n",
       "\t<dt>$value</dt>\n",
       "\t\t<dd>-69.7208907920927</dd>\n",
       "\t<dt>$counts</dt>\n",
       "\t\t<dd><style>\n",
       ".dl-inline {width: auto; margin:0; padding: 0}\n",
       ".dl-inline>dt, .dl-inline>dd {float: none; width: auto; display: inline-block}\n",
       ".dl-inline>dt::after {content: \":\\0020\"; padding-right: .5ex}\n",
       ".dl-inline>dt:not(:first-of-type) {padding-left: .5ex}\n",
       "</style><dl class=dl-inline><dt>function</dt><dd>40</dd><dt>gradient</dt><dd>40</dd></dl>\n",
       "</dd>\n",
       "\t<dt>$convergence</dt>\n",
       "\t\t<dd>0</dd>\n",
       "\t<dt>$message</dt>\n",
       "\t\t<dd>'CONVERGENCE: REL_REDUCTION_OF_F &lt;= FACTR*EPSMCH'</dd>\n",
       "</dl>\n"
      ],
      "text/latex": [
       "\\begin{description}\n",
       "\\item[\\$par] \\begin{enumerate*}\n",
       "\\item 1.52786962955893\n",
       "\\item 2.67623955120876\n",
       "\\item 2.67842846872727\n",
       "\\end{enumerate*}\n",
       "\n",
       "\\item[\\$value] -69.7208907920927\n",
       "\\item[\\$counts] \\begin{description*}\n",
       "\\item[function] 40\n",
       "\\item[gradient] 40\n",
       "\\end{description*}\n",
       "\n",
       "\\item[\\$convergence] 0\n",
       "\\item[\\$message] 'CONVERGENCE: REL\\_REDUCTION\\_OF\\_F <= FACTR*EPSMCH'\n",
       "\\end{description}\n"
      ],
      "text/markdown": [
       "$par\n",
       ":   1. 1.52786962955893\n",
       "2. 2.67623955120876\n",
       "3. 2.67842846872727\n",
       "\n",
       "\n",
       "\n",
       "$value\n",
       ":   -69.7208907920927\n",
       "$counts\n",
       ":   function\n",
       ":   40gradient\n",
       ":   40\n",
       "\n",
       "\n",
       "$convergence\n",
       ":   0\n",
       "$message\n",
       ":   'CONVERGENCE: REL_REDUCTION_OF_F &lt;= FACTR*EPSMCH'\n",
       "\n",
       "\n"
      ],
      "text/plain": [
       "$par\n",
       "[1] 1.527870 2.676240 2.678428\n",
       "\n",
       "$value\n",
       "[1] -69.72089\n",
       "\n",
       "$counts\n",
       "function gradient \n",
       "      40       40 \n",
       "\n",
       "$convergence\n",
       "[1] 0\n",
       "\n",
       "$message\n",
       "[1] \"CONVERGENCE: REL_REDUCTION_OF_F <= FACTR*EPSMCH\"\n"
      ]
     },
     "metadata": {},
     "output_type": "display_data"
    }
   ],
   "source": [
    "# MAXIMISE\n",
    "M2<-optim(par=c(1, 1, 1), regression.log.likelihood, dat=recapture.data, \n",
    "      method='L-BFGS-B', \n",
    "      lower=c(-1000, -1000, 0.001), upper=c(1000, 1000, 1000), \n",
    "      control=list(fnscale=-1))\n",
    "M2"
   ]
  },
  {
   "cell_type": "markdown",
   "id": "a2d33238",
   "metadata": {},
   "source": [
    "#### 2. log-likelihood function without the intercept, and LRT\n",
    "Without the intercept the parameter space becomes 2D. "
   ]
  },
  {
   "cell_type": "code",
   "execution_count": 4,
   "id": "5225f289",
   "metadata": {},
   "outputs": [],
   "source": [
    "regression.no.intercept.log.likelihood<-function(parm, dat)\n",
    "{\n",
    "# DEFINE THE PARAMETERS parm\n",
    "# WE HAVE THREE PARAMETERS: a, b, sigma. BE CAREFUL OF THE ORDER\n",
    "b<-parm[1]\n",
    "sigma<-parm[2]\n",
    "\n",
    "# DEFINE THE DATA dat\n",
    "# FIRST COLUMN IS x, SECOND COLUMN IS y\n",
    "x<-dat[,1]\n",
    "y<-dat[,2]\n",
    "\n",
    "# MODEL ON THE ERROR TERMS. VECTORISED\n",
    "error.term<-(y-b*x)\n",
    "# error.term[i] ARE IID NORMAL, WITH MEAN 0 AND A COMMON VARIANCE sigma^2\n",
    "density<-dnorm(error.term, mean=0, sd=sigma, log=T)\n",
    "\n",
    "# THE LOG-LIKELIHOOD IS THE SUM OF INDIVIDUAL LOG-DENSITY\n",
    "return(sum(density))\n",
    "}"
   ]
  },
  {
   "cell_type": "code",
   "execution_count": 5,
   "id": "cfe74413",
   "metadata": {},
   "outputs": [
    {
     "data": {
      "text/html": [
       "<dl>\n",
       "\t<dt>$par</dt>\n",
       "\t\t<dd><style>\n",
       ".list-inline {list-style: none; margin:0; padding: 0}\n",
       ".list-inline>li {display: inline-block}\n",
       ".list-inline>li:not(:last-child)::after {content: \"\\00b7\"; padding: 0 .5ex}\n",
       "</style>\n",
       "<ol class=list-inline><li>3.16286962258903</li><li>2.82293274685858</li></ol>\n",
       "</dd>\n",
       "\t<dt>$value</dt>\n",
       "\t\t<dd>-71.2447287729483</dd>\n",
       "\t<dt>$counts</dt>\n",
       "\t\t<dd><style>\n",
       ".dl-inline {width: auto; margin:0; padding: 0}\n",
       ".dl-inline>dt, .dl-inline>dd {float: none; width: auto; display: inline-block}\n",
       ".dl-inline>dt::after {content: \":\\0020\"; padding-right: .5ex}\n",
       ".dl-inline>dt:not(:first-of-type) {padding-left: .5ex}\n",
       "</style><dl class=dl-inline><dt>function</dt><dd>37</dd><dt>gradient</dt><dd>37</dd></dl>\n",
       "</dd>\n",
       "\t<dt>$convergence</dt>\n",
       "\t\t<dd>0</dd>\n",
       "\t<dt>$message</dt>\n",
       "\t\t<dd>'CONVERGENCE: REL_REDUCTION_OF_F &lt;= FACTR*EPSMCH'</dd>\n",
       "</dl>\n"
      ],
      "text/latex": [
       "\\begin{description}\n",
       "\\item[\\$par] \\begin{enumerate*}\n",
       "\\item 3.16286962258903\n",
       "\\item 2.82293274685858\n",
       "\\end{enumerate*}\n",
       "\n",
       "\\item[\\$value] -71.2447287729483\n",
       "\\item[\\$counts] \\begin{description*}\n",
       "\\item[function] 37\n",
       "\\item[gradient] 37\n",
       "\\end{description*}\n",
       "\n",
       "\\item[\\$convergence] 0\n",
       "\\item[\\$message] 'CONVERGENCE: REL\\_REDUCTION\\_OF\\_F <= FACTR*EPSMCH'\n",
       "\\end{description}\n"
      ],
      "text/markdown": [
       "$par\n",
       ":   1. 3.16286962258903\n",
       "2. 2.82293274685858\n",
       "\n",
       "\n",
       "\n",
       "$value\n",
       ":   -71.2447287729483\n",
       "$counts\n",
       ":   function\n",
       ":   37gradient\n",
       ":   37\n",
       "\n",
       "\n",
       "$convergence\n",
       ":   0\n",
       "$message\n",
       ":   'CONVERGENCE: REL_REDUCTION_OF_F &lt;= FACTR*EPSMCH'\n",
       "\n",
       "\n"
      ],
      "text/plain": [
       "$par\n",
       "[1] 3.162870 2.822933\n",
       "\n",
       "$value\n",
       "[1] -71.24473\n",
       "\n",
       "$counts\n",
       "function gradient \n",
       "      37       37 \n",
       "\n",
       "$convergence\n",
       "[1] 0\n",
       "\n",
       "$message\n",
       "[1] \"CONVERGENCE: REL_REDUCTION_OF_F <= FACTR*EPSMCH\"\n"
      ]
     },
     "metadata": {},
     "output_type": "display_data"
    }
   ],
   "source": [
    "M1<-optim(par=c(1,1), regression.no.intercept.log.likelihood, method='L-BFGS-B', \n",
    "          lower=c(-1000, 0.001), upper=c(1000, 1000), dat=recapture.data, \n",
    "         control=list(fnscale=-1))\n",
    "M1"
   ]
  },
  {
   "cell_type": "code",
   "execution_count": 6,
   "id": "f8de0028",
   "metadata": {},
   "outputs": [
    {
     "data": {
      "text/html": [
       "3.04767596171124"
      ],
      "text/latex": [
       "3.04767596171124"
      ],
      "text/markdown": [
       "3.04767596171124"
      ],
      "text/plain": [
       "[1] 3.047676"
      ]
     },
     "metadata": {},
     "output_type": "display_data"
    },
    {
     "data": {
      "text/html": [
       "3.84145882069412"
      ],
      "text/latex": [
       "3.84145882069412"
      ],
      "text/markdown": [
       "3.84145882069412"
      ],
      "text/plain": [
       "[1] 3.841459"
      ]
     },
     "metadata": {},
     "output_type": "display_data"
    }
   ],
   "source": [
    "# LRT, USING THE MAXIMISED LOG-LIKELIHOOD VALUES FROM BOTH MODELS\n",
    "D<-2*(M2$value-M1$value)\n",
    "D\n",
    "# CRITICAL VALUE, CHI-SQUARE WITH DF=1\n",
    "qchisq(0.95, df=1)"
   ]
  },
  {
   "cell_type": "markdown",
   "id": "00cbb2e0",
   "metadata": {},
   "source": [
    "We accept M1 (no intercept) as the simplified model. Or we say the intercept is not significnatly different from 0. \n",
    "\n",
    "#### 3. log-likelihood surface, C.I. for a single parameter\n",
    "We evaluate the log-likelihood exhaustively near the mle. "
   ]
  },
  {
   "cell_type": "code",
   "execution_count": 7,
   "id": "d2add7a9",
   "metadata": {},
   "outputs": [
    {
     "data": {
      "image/png": "[encoded data removed]",
      "text/plain": [
       "plot without title"
      ]
     },
     "metadata": {
      "image/png": {
       "height": 420,
       "width": 420
      }
     },
     "output_type": "display_data"
    }
   ],
   "source": [
    "# DEFINE THE RANGE OF PARAMETERS VALUES\n",
    "b<-seq(2, 4, 0.1)\n",
    "sigma<-seq(2, 5, 0.1)\n",
    "\n",
    "# THE LOG-LIKELIHOOD VALUE IS STORED IN A MATRIX\n",
    "log.likelihood.value<-matrix(nr=length(b), nc=length(sigma))\n",
    "\n",
    "# COMPUTE THE LOG-LIKELIHOOD VALUE FOR EACH PAIR OF VALUES. TWO PARAMETERS, TWO FOR LOOPS. \n",
    "for (i in 1:length(b))\n",
    "  { \n",
    "   for (j in 1:length(sigma))\n",
    "    {\n",
    "    log.likelihood.value[i,j]<-\n",
    "    regression.no.intercept.log.likelihood(parm=c(b[i],sigma[j]),\n",
    "    dat=recapture.data)\n",
    "    }\n",
    "  }\n",
    "# WE ARE INTERESTED IN KNOWING THE RELATIVE LOG-LIKELIHOOD VALUE \n",
    "# RELATIVE TO THE PEAK (MAXIMUM)\n",
    "rel.log.likelihood.value<-log.likelihood.value-M1$value\n",
    "\n",
    "# FUNCTION FOR 3D PLOT\n",
    "persp(b, sigma, rel.log.likelihood.value, theta=30, phi=20, \n",
    "\txlab='b', ylab='sigma', zlab='rel.log.likelihood.value', \n",
    "\tcol='grey')\n"
   ]
  },
  {
   "cell_type": "code",
   "execution_count": 8,
   "id": "9e3aa907",
   "metadata": {},
   "outputs": [
    {
     "data": {
      "image/png": "[encoded data removed]",
      "text/plain": [
       "plot without title"
      ]
     },
     "metadata": {
      "image/png": {
       "height": 420,
       "width": 420
      }
     },
     "output_type": "display_data"
    }
   ],
   "source": [
    "# CONTOUR PLOT\n",
    "contour(b, sigma, rel.log.likelihood.value, xlab='b', ylab='sigma', \n",
    "\txlim=c(2.5, 3.9), ylim=c(2.0, 4.3), \n",
    "\tlevels=c(-1:-5, -10), cex=2)\n",
    "# DRAW A CROSS TO INDICATE THE MAXIMUM\n",
    "points(M1$par[1], M1$par[2], pch=3)\n",
    "# ADD -1.92 CONTOUR LINE\n",
    "contour.line<-contourLines(b, sigma, rel.log.likelihood.value, \tlevels=-1.92)[[1]]\n",
    "lines(contour.line$x, contour.line$y, col='red', \n",
    "\tlty=2, lwd=2)\n",
    "abline(v=c(2.75, 3.57), lty=2, col='red', lwd=2)\n",
    "abline(h=c(2.23, 3.74), lty=2, col='red', lwd=2)"
   ]
  },
  {
   "cell_type": "markdown",
   "id": "cfdd009d-8851-4656-a900-a069abd86ec4",
   "metadata": {},
   "source": [
    "With the -1.92 contour line we can find the inidividual C.I. for $b$ and $\\sigma$ by looking at the widest part of the -1.92 circle in both dimension. Here the 95% C.I. for $b$ is [2.75, 3.57], and the 95% C.I. for $\\sigma$ is [2.23, 3.74]. \n",
    "\n",
    "#### 4. Joint C.I. \n",
    "To find joint C.I. (also called the joint confidence *region*) for the two parameters we need to another contour line which is <code>0.5*qchisq(0.95, df=2)</code> from the maximum: "
   ]
  },
  {
   "cell_type": "code",
   "execution_count": 9,
   "id": "9a54a0b5-fe7c-45b9-8361-74699400bf45",
   "metadata": {},
   "outputs": [
    {
     "data": {
      "image/png": "[encoded data removed]",
      "text/plain": [
       "plot without title"
      ]
     },
     "metadata": {
      "image/png": {
       "height": 420,
       "width": 420
      }
     },
     "output_type": "display_data"
    }
   ],
   "source": [
    "# CONTOUR PLOT\n",
    "contour(b, sigma, rel.log.likelihood.value, xlab='b', ylab='sigma', \n",
    "\txlim=c(2.5, 3.9), ylim=c(2.0, 4.3), \n",
    "\tlevels=c(-1:-5, -10), cex=2)\n",
    "# DRAW A CROSS TO INDICATE THE MAXIMUM\n",
    "points(M1$par[1], M1$par[2], pch=3)\n",
    "# ADD -2.99 CONTOUR LINE\n",
    "contour.line<-contourLines(b, sigma, rel.log.likelihood.value, \tlevels=-0.5*qchisq(0.95, df=2))[[1]]\n",
    "lines(contour.line$x, contour.line$y, col='blue', \n",
    "\tlty=2, lwd=2)"
   ]
  },
  {
   "cell_type": "markdown",
   "id": "ead7cf85-2b56-4c11-a10c-4b860309e43a",
   "metadata": {},
   "source": [
    "The 95% joint confidence region are all the points within this circle. \n",
    "\n",
    "#### 5. Wald C.I. and Hessian matrix\n",
    "Hessian matrix is the second derivative of the log-liklihood evaluated at the peak. The variance-covariance structure of the two mle is the negative inverse of the Hessian matrix. Note that all variance-covariance matrices are symmetric and positive definite (analogy to the univariate case that variances are positive. But in the language of matrix \"positive\" means \"positive definite\"). "
   ]
  },
  {
   "cell_type": "code",
   "execution_count": 10,
   "id": "500e54fe",
   "metadata": {},
   "outputs": [
    {
     "data": {
      "text/html": [
       "<table class=\"dataframe\">\n",
       "<caption>A matrix: 2 × 2 of type dbl</caption>\n",
       "<tbody>\n",
       "\t<tr><td>-2.365676e+01</td><td> 4.369838e-06</td></tr>\n",
       "\t<tr><td> 4.369838e-06</td><td>-7.278256e+00</td></tr>\n",
       "</tbody>\n",
       "</table>\n"
      ],
      "text/latex": [
       "A matrix: 2 × 2 of type dbl\n",
       "\\begin{tabular}{ll}\n",
       "\t -2.365676e+01 &  4.369838e-06\\\\\n",
       "\t  4.369838e-06 & -7.278256e+00\\\\\n",
       "\\end{tabular}\n"
      ],
      "text/markdown": [
       "\n",
       "A matrix: 2 × 2 of type dbl\n",
       "\n",
       "| -2.365676e+01 |  4.369838e-06 |\n",
       "|  4.369838e-06 | -7.278256e+00 |\n",
       "\n"
      ],
      "text/plain": [
       "     [,1]          [,2]         \n",
       "[1,] -2.365676e+01  4.369838e-06\n",
       "[2,]  4.369838e-06 -7.278256e+00"
      ]
     },
     "metadata": {},
     "output_type": "display_data"
    }
   ],
   "source": [
    "M1<-optim(par=c(1,1), regression.no.intercept.log.likelihood, method='L-BFGS-B', \n",
    "          lower=c(-1000, 0.001), upper=c(1000, 1000), dat=recapture.data, \n",
    "         control=list(fnscale=-1), hessian=T)\n",
    "M1$hessian"
   ]
  },
  {
   "cell_type": "code",
   "execution_count": 11,
   "id": "91185e6f",
   "metadata": {},
   "outputs": [
    {
     "data": {
      "text/html": [
       "<table class=\"dataframe\">\n",
       "<caption>A matrix: 2 × 2 of type dbl</caption>\n",
       "<tbody>\n",
       "\t<tr><td>4.227122e-02</td><td>2.537948e-08</td></tr>\n",
       "\t<tr><td>2.537948e-08</td><td>1.373956e-01</td></tr>\n",
       "</tbody>\n",
       "</table>\n"
      ],
      "text/latex": [
       "A matrix: 2 × 2 of type dbl\n",
       "\\begin{tabular}{ll}\n",
       "\t 4.227122e-02 & 2.537948e-08\\\\\n",
       "\t 2.537948e-08 & 1.373956e-01\\\\\n",
       "\\end{tabular}\n"
      ],
      "text/markdown": [
       "\n",
       "A matrix: 2 × 2 of type dbl\n",
       "\n",
       "| 4.227122e-02 | 2.537948e-08 |\n",
       "| 2.537948e-08 | 1.373956e-01 |\n",
       "\n"
      ],
      "text/plain": [
       "     [,1]         [,2]        \n",
       "[1,] 4.227122e-02 2.537948e-08\n",
       "[2,] 2.537948e-08 1.373956e-01"
      ]
     },
     "metadata": {},
     "output_type": "display_data"
    }
   ],
   "source": [
    "vcov<-(-1)*solve(M1$hessian)\n",
    "vcov"
   ]
  },
  {
   "cell_type": "markdown",
   "id": "588f5836-d155-4f42-b625-1e8c88fb31d6",
   "metadata": {},
   "source": [
    "The 95% C.I. for $b$ under approximate normality is:"
   ]
  },
  {
   "cell_type": "code",
   "execution_count": 12,
   "id": "1d6d0929-e206-4955-abdb-e4d64239d526",
   "metadata": {},
   "outputs": [
    {
     "data": {
      "text/html": [
       "2.75989428378515"
      ],
      "text/latex": [
       "2.75989428378515"
      ],
      "text/markdown": [
       "2.75989428378515"
      ],
      "text/plain": [
       "[1] 2.759894"
      ]
     },
     "metadata": {},
     "output_type": "display_data"
    },
    {
     "data": {
      "text/html": [
       "3.5658449613929"
      ],
      "text/latex": [
       "3.5658449613929"
      ],
      "text/markdown": [
       "3.5658449613929"
      ],
      "text/plain": [
       "[1] 3.565845"
      ]
     },
     "metadata": {},
     "output_type": "display_data"
    }
   ],
   "source": [
    "# LOWER 95% C.I. FOR b\n",
    "M1$par[1]-1.96*sqrt(vcov[1,1])\n",
    "# UPPER C.I.\n",
    "M1$par[1]+1.96*sqrt(vcov[1,1])"
   ]
  }
 ],
 "metadata": {
  "kernelspec": {
   "display_name": "R-4.3.1",
   "language": "R",
   "name": "ir"
  },
  "language_info": {
   "codemirror_mode": "r",
   "file_extension": ".r",
   "mimetype": "text/x-r-source",
   "name": "R",
   "pygments_lexer": "r",
   "version": "4.3.1"
  }
 },
 "nbformat": 4,
 "nbformat_minor": 5
}
