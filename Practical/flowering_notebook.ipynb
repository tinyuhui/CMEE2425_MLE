{
 "cells": [
  {
   "cell_type": "markdown",
   "id": "fcabebfb",
   "metadata": {},
   "source": [
    "### Solution to flowering.txt on logistic regression\n",
    "<code>flowering.txt</code>\n",
    "\n",
    "#### 0. Load the dataset, make some plots"
   ]
  },
  {
   "cell_type": "code",
   "execution_count": 1,
   "id": "74eb878d",
   "metadata": {},
   "outputs": [
    {
     "data": {
      "text/html": [
       "<ol class=list-inline>\n",
       "\t<li>'State'</li>\n",
       "\t<li>'Flowers'</li>\n",
       "\t<li>'Root'</li>\n",
       "</ol>\n"
      ],
      "text/latex": [
       "\\begin{enumerate*}\n",
       "\\item 'State'\n",
       "\\item 'Flowers'\n",
       "\\item 'Root'\n",
       "\\end{enumerate*}\n"
      ],
      "text/markdown": [
       "1. 'State'\n",
       "2. 'Flowers'\n",
       "3. 'Root'\n",
       "\n",
       "\n"
      ],
      "text/plain": [
       "[1] \"State\"   \"Flowers\" \"Root\"   "
      ]
     },
     "metadata": {},
     "output_type": "display_data"
    },
    {
     "data": {
      "text/html": [
       "<table>\n",
       "<thead><tr><th scope=col>State</th><th scope=col>Flowers</th><th scope=col>Root</th></tr></thead>\n",
       "<tbody>\n",
       "\t<tr><td>0   </td><td>165 </td><td>1.57</td></tr>\n",
       "\t<tr><td>0   </td><td> 41 </td><td>0.20</td></tr>\n",
       "\t<tr><td>0   </td><td> 33 </td><td>0.20</td></tr>\n",
       "\t<tr><td>0   </td><td>141 </td><td>0.91</td></tr>\n",
       "\t<tr><td>0   </td><td>150 </td><td>2.36</td></tr>\n",
       "\t<tr><td>0   </td><td> 21 </td><td>0.20</td></tr>\n",
       "</tbody>\n",
       "</table>\n"
      ],
      "text/latex": [
       "\\begin{tabular}{r|lll}\n",
       " State & Flowers & Root\\\\\n",
       "\\hline\n",
       "\t 0    & 165  & 1.57\\\\\n",
       "\t 0    &  41  & 0.20\\\\\n",
       "\t 0    &  33  & 0.20\\\\\n",
       "\t 0    & 141  & 0.91\\\\\n",
       "\t 0    & 150  & 2.36\\\\\n",
       "\t 0    &  21  & 0.20\\\\\n",
       "\\end{tabular}\n"
      ],
      "text/markdown": [
       "\n",
       "| State | Flowers | Root |\n",
       "|---|---|---|\n",
       "| 0    | 165  | 1.57 |\n",
       "| 0    |  41  | 0.20 |\n",
       "| 0    |  33  | 0.20 |\n",
       "| 0    | 141  | 0.91 |\n",
       "| 0    | 150  | 2.36 |\n",
       "| 0    |  21  | 0.20 |\n",
       "\n"
      ],
      "text/plain": [
       "  State Flowers Root\n",
       "1 0     165     1.57\n",
       "2 0      41     0.20\n",
       "3 0      33     0.20\n",
       "4 0     141     0.91\n",
       "5 0     150     2.36\n",
       "6 0      21     0.20"
      ]
     },
     "metadata": {},
     "output_type": "display_data"
    }
   ],
   "source": [
    "# LOAD DATASET\n",
    "flowering<-read.table('flowering.txt', header=T)\n",
    "names(flowering)\n",
    "head(flowering)"
   ]
  },
  {
   "cell_type": "markdown",
   "id": "00ea9b81",
   "metadata": {},
   "source": [
    "State is the response, binary, and Flowers and Root are the two (continuous) explanatory variables. Let us make some scatter plots to visualise these variables. "
   ]
  },
  {
   "cell_type": "code",
   "execution_count": 2,
   "id": "e6881600",
   "metadata": {},
   "outputs": [
    {
     "data": {
      "image/png": "[encoded data removed]",
      "text/plain": [
       "plot without title"
      ]
     },
     "metadata": {},
     "output_type": "display_data"
    }
   ],
   "source": [
    "# PLOTS\n",
    "par(mfrow=c(1,2))\n",
    "plot(flowering$Flowers, flowering$State)\n",
    "plot(flowering$Root, flowering$State)"
   ]
  },
  {
   "cell_type": "markdown",
   "id": "8b43a597",
   "metadata": {},
   "source": [
    "As expected, plots of binary outcomes only give you two rows of dots... \n",
    "\n",
    "#### 1. Logistic regression with the main effects only\n",
    "Next we fit a logistic regression to the dataset with the two main explanatory variables. First, we define the log-likelihood function: "
   ]
  },
  {
   "cell_type": "code",
   "execution_count": 3,
   "id": "683f0986",
   "metadata": {},
   "outputs": [],
   "source": [
    "# THE FIRST LOGISTIC LOG-LIKELIHOOD MODEL\n",
    "logistic.log.likelihood<-function(parm, dat)\n",
    "{\n",
    "# DEFINE PARAMETERS\n",
    "a<-parm[1]\n",
    "b<-parm[2]\n",
    "c<-parm[3]\n",
    "    \n",
    "# DEFINE RESPONSE VARIABLE, WHICH IS THE FIRST COLUMN OF dat. HAS TO BE 0 OR 1 (BINARY RESPONSE)\n",
    "State<-dat[,1]\n",
    "# DEFINE THE TWO EXPLANATORY VARIABLES, CONTINUOUS\n",
    "Flowers<-dat[,2]\n",
    "Root<-dat[,3]\n",
    "\n",
    "# MODEL THE PROBABILITY OF SURVIVAL FOR EACH INDIVIDUAL\n",
    "# WHICH IS THE EXPIT TRANSFORMATION OF THE LINEAR PREDICTORS\n",
    "p<-exp(a+b*Flowers+c*Root)/(1+exp(a+b*Flowers+c*Root))\n",
    "\n",
    "# THE LOG-LIKELIHOOD FUNCTION\n",
    "log.like<-State*log(p)+(1-State)*log(1-p)\n",
    "\n",
    "# THE OVERALL LOG-LIKELIHOOD IS THE SUM OF THE LOG-LIKELIHOODS OF THE OBSERVATIONS\n",
    "return(sum(log.like))\n",
    "}"
   ]
  },
  {
   "cell_type": "code",
   "execution_count": 4,
   "id": "255e927a",
   "metadata": {},
   "outputs": [
    {
     "data": {
      "text/html": [
       "-40.8956836530368"
      ],
      "text/latex": [
       "-40.8956836530368"
      ],
      "text/markdown": [
       "-40.8956836530368"
      ],
      "text/plain": [
       "[1] -40.89568"
      ]
     },
     "metadata": {},
     "output_type": "display_data"
    }
   ],
   "source": [
    "# TEST CASE\n",
    "logistic.log.likelihood(c(0,0,0), dat=flowering)"
   ]
  },
  {
   "cell_type": "markdown",
   "id": "40251b0e",
   "metadata": {},
   "source": [
    "The linear predictor is $a+b*Flowers+c*Root$, and we relate the probabaility of success (alive) $p$ with the linear predictor via expit transformation. \n",
    "\n",
    "The next step is to find a set of $(\\hat{a}, \\hat{b}, \\hat{c})$ that maximises the log-likelihood. We call the output M1. I am using the default algorithm here because 1) it is simple, and 2) the parameters can be any real numbers without the need of an upper and lower bound (unlike yesterday's, that $\\sigma$ has to be positive). "
   ]
  },
  {
   "cell_type": "code",
   "execution_count": 5,
   "id": "b01ddff3",
   "metadata": {},
   "outputs": [
    {
     "data": {
      "text/html": [
       "<dl>\n",
       "\t<dt>$par</dt>\n",
       "\t\t<dd><ol class=list-inline>\n",
       "\t<li>0.961654295854144</li>\n",
       "\t<li>-0.106411039043982</li>\n",
       "\t<li>6.59984545995395</li>\n",
       "</ol>\n",
       "</dd>\n",
       "\t<dt>$value</dt>\n",
       "\t\t<dd>-27.0340543415769</dd>\n",
       "\t<dt>$counts</dt>\n",
       "\t\t<dd><dl class=dl-horizontal>\n",
       "\t<dt>function</dt>\n",
       "\t\t<dd>220</dd>\n",
       "\t<dt>gradient</dt>\n",
       "\t\t<dd>&lt;NA&gt;</dd>\n",
       "</dl>\n",
       "</dd>\n",
       "\t<dt>$convergence</dt>\n",
       "\t\t<dd>0</dd>\n",
       "\t<dt>$message</dt>\n",
       "\t\t<dd>NULL</dd>\n",
       "</dl>\n"
      ],
      "text/latex": [
       "\\begin{description}\n",
       "\\item[\\$par] \\begin{enumerate*}\n",
       "\\item 0.961654295854144\n",
       "\\item -0.106411039043982\n",
       "\\item 6.59984545995395\n",
       "\\end{enumerate*}\n",
       "\n",
       "\\item[\\$value] -27.0340543415769\n",
       "\\item[\\$counts] \\begin{description*}\n",
       "\\item[function] 220\n",
       "\\item[gradient] <NA>\n",
       "\\end{description*}\n",
       "\n",
       "\\item[\\$convergence] 0\n",
       "\\item[\\$message] NULL\n",
       "\\end{description}\n"
      ],
      "text/markdown": [
       "$par\n",
       ":   1. 0.961654295854144\n",
       "2. -0.106411039043982\n",
       "3. 6.59984545995395\n",
       "\n",
       "\n",
       "\n",
       "$value\n",
       ":   -27.0340543415769\n",
       "$counts\n",
       ":   function\n",
       ":   220gradient\n",
       ":   &lt;NA&gt;\n",
       "\n",
       "\n",
       "$convergence\n",
       ":   0\n",
       "$message\n",
       ":   NULL\n",
       "\n",
       "\n"
      ],
      "text/plain": [
       "$par\n",
       "[1]  0.9616543 -0.1064110  6.5998455\n",
       "\n",
       "$value\n",
       "[1] -27.03405\n",
       "\n",
       "$counts\n",
       "function gradient \n",
       "     220       NA \n",
       "\n",
       "$convergence\n",
       "[1] 0\n",
       "\n",
       "$message\n",
       "NULL\n"
      ]
     },
     "metadata": {},
     "output_type": "display_data"
    }
   ],
   "source": [
    "M1<-optim(c(0,0,0), logistic.log.likelihood, \n",
    "          dat=flowering, control=list(fnscale=-1))\n",
    "M1"
   ]
  },
  {
   "cell_type": "markdown",
   "id": "e2d8483e",
   "metadata": {},
   "source": [
    "<code>optim()</code> returns a list. To retrieve the parameter estimates (i.e. the set of parameter values where the log-likelihood attains its maximum) we visit the <code>\\$par</code> element. <code>\\$value</code> gives maximised log-likelihood value. \n",
    "\n",
    "Some of you ran into problems while setting the initial condition which is typical. One possibility is that the intial condition lies outside the box of constraints (if <code>L-BFGS-B</code> is used). Another common issue is that the log-likelihood at the initial condition is too small (say, -Inf, smaller than the smallest number R can understand). In this case, the neighbourhood of the initial condition is also -Inf, and <code>optim()</code> does not know which direction it should go next. In other words,  you are too far from the peak. Imagine you're trying to find the peak of Yr Wyddfa (Snowdon) but your starting point is at Silwood... In practice I recommend running multiple <code>optim()</code> with different initial conditions to ensure they all converge to the global maximum. \n",
    "\n",
    "#### 2. Logistic regression with the interaction term\n",
    "Some suggest that the interaction between Flowers and Root may be meaningful. It is easy to incorporate the interaction term by changing the linear predictor to $a+b*Flower+c*Root+d*Interaction$, where $Interaction=Flower*Root$. \n",
    "\n",
    "Note that it becomes a 4-parameter model. You will obtain a new set of parameters that maximises the log-likelihood, and a new and larger maximised log-likelihood value. We store the result in M2. "
   ]
  },
  {
   "cell_type": "code",
   "execution_count": 6,
   "id": "063eea63",
   "metadata": {},
   "outputs": [],
   "source": [
    "# LOGISTIC REGRESSION LOG-LIKELIHOOD MODEL WITH INTERACTION TERM\n",
    "# ONE EXTRA PARAMETER d FOR THE COEFFICIENT OF THE INTERACTION\n",
    "logistic.log.likelihood.int<-function(parm, dat)\n",
    "{\n",
    "# DEFINE PARAMETERS, ONE MORE THIS TIME\n",
    "a<-parm[1]\n",
    "b<-parm[2]\n",
    "c<-parm[3]\n",
    "d<-parm[4]\n",
    "\n",
    "# DEFINE RESPONSE VARIABLE, WHICH IS THE FIRST COLUMN OF dat\n",
    "State<-dat[,1]\n",
    "# DEFINE EXPLANATORY VARIABLES\n",
    "Flowers<-dat[,2]\n",
    "Root<-dat[,3]\n",
    "Interaction<-dat[,2]*dat[,3]\n",
    "\n",
    "# MODEL OUR SUCCESS PROBABILITY\n",
    "# REMEMBER TO INCLUDE THE INTERACTION TERM\n",
    "p<-exp(a+b*Flowers+c*Root+d*Interaction)/(1+exp(a+b*Flowers+c*Root+d*Interaction))\n",
    "\n",
    "# THE LOG-LIKELIHOOD FUNCTION FOR A SINGLE DATA POINT\n",
    "log.like<-State*log(p)+(1-State)*log(1-p)\n",
    "\n",
    "# THE OVERALL LOG-LIKELIHOOD IS THE SUM OF THE LOG-LIKELIHOODS OF THE OBSERVATIONS\n",
    "return(sum(log.like))\n",
    "}"
   ]
  },
  {
   "cell_type": "code",
   "execution_count": 7,
   "id": "da6dfeb3",
   "metadata": {},
   "outputs": [
    {
     "data": {
      "text/html": [
       "<dl>\n",
       "\t<dt>$par</dt>\n",
       "\t\t<dd><ol class=list-inline>\n",
       "\t<li>-2.95944409823585</li>\n",
       "\t<li>-0.0788933949014742</li>\n",
       "\t<li>25.144744132681</li>\n",
       "\t<li>-0.208987312266622</li>\n",
       "</ol>\n",
       "</dd>\n",
       "\t<dt>$value</dt>\n",
       "\t\t<dd>-18.5641131586323</dd>\n",
       "\t<dt>$counts</dt>\n",
       "\t\t<dd><dl class=dl-horizontal>\n",
       "\t<dt>function</dt>\n",
       "\t\t<dd>389</dd>\n",
       "\t<dt>gradient</dt>\n",
       "\t\t<dd>&lt;NA&gt;</dd>\n",
       "</dl>\n",
       "</dd>\n",
       "\t<dt>$convergence</dt>\n",
       "\t\t<dd>0</dd>\n",
       "\t<dt>$message</dt>\n",
       "\t\t<dd>NULL</dd>\n",
       "</dl>\n"
      ],
      "text/latex": [
       "\\begin{description}\n",
       "\\item[\\$par] \\begin{enumerate*}\n",
       "\\item -2.95944409823585\n",
       "\\item -0.0788933949014742\n",
       "\\item 25.144744132681\n",
       "\\item -0.208987312266622\n",
       "\\end{enumerate*}\n",
       "\n",
       "\\item[\\$value] -18.5641131586323\n",
       "\\item[\\$counts] \\begin{description*}\n",
       "\\item[function] 389\n",
       "\\item[gradient] <NA>\n",
       "\\end{description*}\n",
       "\n",
       "\\item[\\$convergence] 0\n",
       "\\item[\\$message] NULL\n",
       "\\end{description}\n"
      ],
      "text/markdown": [
       "$par\n",
       ":   1. -2.95944409823585\n",
       "2. -0.0788933949014742\n",
       "3. 25.144744132681\n",
       "4. -0.208987312266622\n",
       "\n",
       "\n",
       "\n",
       "$value\n",
       ":   -18.5641131586323\n",
       "$counts\n",
       ":   function\n",
       ":   389gradient\n",
       ":   &lt;NA&gt;\n",
       "\n",
       "\n",
       "$convergence\n",
       ":   0\n",
       "$message\n",
       ":   NULL\n",
       "\n",
       "\n"
      ],
      "text/plain": [
       "$par\n",
       "[1] -2.95944410 -0.07889339 25.14474413 -0.20898731\n",
       "\n",
       "$value\n",
       "[1] -18.56411\n",
       "\n",
       "$counts\n",
       "function gradient \n",
       "     389       NA \n",
       "\n",
       "$convergence\n",
       "[1] 0\n",
       "\n",
       "$message\n",
       "NULL\n"
      ]
     },
     "metadata": {},
     "output_type": "display_data"
    }
   ],
   "source": [
    "# MAXIMISE THIS LOG-LIKELIHOOD IN THE FOUR-DIMENSIONAL PARAMETER SPACE\n",
    "M2<-optim(c(0,0,0,0), logistic.log.likelihood.int, dat=flowering, control=list(fnscale=-1))\n",
    "M2"
   ]
  },
  {
   "cell_type": "markdown",
   "id": "7fc15be3",
   "metadata": {},
   "source": [
    "#### 3. Hypothesis testing for the interaction term\n",
    "The two models are nested as the M1 is a special case of M2 (with $d=0$). Hence we perform a LRT to test for the significance of the interaction term. First we calculate $D$, the LRT statistic. "
   ]
  },
  {
   "cell_type": "code",
   "execution_count": 8,
   "id": "34a9dba2",
   "metadata": {},
   "outputs": [
    {
     "data": {
      "text/html": [
       "16.9398823658892"
      ],
      "text/latex": [
       "16.9398823658892"
      ],
      "text/markdown": [
       "16.9398823658892"
      ],
      "text/plain": [
       "[1] 16.93988"
      ]
     },
     "metadata": {},
     "output_type": "display_data"
    }
   ],
   "source": [
    "# THE LIKELIHOOD RATIO TEST STATISTIC\n",
    "# D MEASURES THE DIFFERENCE IN EXPLANATORY POWER BETWEEN THE TWO MODELS\n",
    "D<-2*(M2$value - M1$value)\n",
    "D"
   ]
  },
  {
   "cell_type": "markdown",
   "id": "e7ece244",
   "metadata": {},
   "source": [
    "Is this $D$ large or small? We compare it to the critical value of a $\\chi^2$ distribution. The degree(s) of freedom equal the difference in the number of parameters, which is one in our case. "
   ]
  },
  {
   "cell_type": "code",
   "execution_count": 9,
   "id": "bb99f0be",
   "metadata": {},
   "outputs": [
    {
     "data": {
      "text/html": [
       "3.84145882069412"
      ],
      "text/latex": [
       "3.84145882069412"
      ],
      "text/markdown": [
       "3.84145882069412"
      ],
      "text/plain": [
       "[1] 3.841459"
      ]
     },
     "metadata": {},
     "output_type": "display_data"
    }
   ],
   "source": [
    "# CRITICAL VALUE\n",
    "qchisq(0.95, df=1)"
   ]
  },
  {
   "cell_type": "markdown",
   "id": "2dbf44b8",
   "metadata": {},
   "source": [
    "Since $D$ is larger than the critical value, there is a huge drop in explanatory power when the interaction term is removed. In other words, we want to keep the interaction term, and that the parameter $d$ is significant (i.e. signficantly different from zero).\n",
    "\n",
    "Alternatively we can calculate the p-value:"
   ]
  },
  {
   "cell_type": "code",
   "execution_count": 10,
   "id": "ca325746",
   "metadata": {},
   "outputs": [
    {
     "data": {
      "text/html": [
       "3.85823993470646e-05"
      ],
      "text/latex": [
       "3.85823993470646e-05"
      ],
      "text/markdown": [
       "3.85823993470646e-05"
      ],
      "text/plain": [
       "[1] 3.85824e-05"
      ]
     },
     "metadata": {},
     "output_type": "display_data"
    }
   ],
   "source": [
    "# p-value\n",
    "1-pchisq(D, df=1)"
   ]
  },
  {
   "cell_type": "markdown",
   "id": "cd739f30",
   "metadata": {},
   "source": [
    "#### 4. Profile likelihood\n",
    "Profiling is a procedure to find C.I. for a subset of parameters in a multi-parameter model. In M2, we obtained the mle $(\\hat{a}, \\hat{b}, \\hat{c}, \\hat{d})$. If we move any parameter(s) away from their mle, the log-likelihood drops. If our interest is on the profile C.I. of $b$, the coefficient of flowers, then it makes sense to ask what the profile likelihood is at $b=-0.03$ (say). Some may think that it is the log-likelihood value at $b=-0.03$, while keeping the remaining three parameters at the mle:"
   ]
  },
  {
   "cell_type": "code",
   "execution_count": 11,
   "id": "7a5fcebf",
   "metadata": {},
   "outputs": [
    {
     "data": {
      "text/html": [
       "-28.3452335900866"
      ],
      "text/latex": [
       "-28.3452335900866"
      ],
      "text/markdown": [
       "-28.3452335900866"
      ],
      "text/plain": [
       "[1] -28.34523"
      ]
     },
     "metadata": {},
     "output_type": "display_data"
    }
   ],
   "source": [
    "# THE WRONG APPROACH. SET b=-0.03, AND KEEP ALL OTHERS AT THEIR MLE\n",
    "logistic.log.likelihood.int(parm=c(M2$par[1], -0.03, M2$par[3], M2$par[4]), dat=flowering)"
   ]
  },
  {
   "cell_type": "markdown",
   "id": "e03d378c",
   "metadata": {},
   "source": [
    "WRONG! There is no guarantee that the descend of the log-likelihood follows a straight path along $b$. The correct procedure is to fix $b=-0.03$ and re-maximise the log-likelihood with respect to the remaining three parameters. This is what we meant by performing a partial maximisation of the log-likelihood in the restricted parameter space. Below is the function to calculate the profile log-likelihood for $b$:"
   ]
  },
  {
   "cell_type": "code",
   "execution_count": 12,
   "id": "c509b765",
   "metadata": {},
   "outputs": [],
   "source": [
    "# PROFILE LOG-LIKELIHOOD FOR b. OBVIOUSLY IT IS A FUNCTION OF b\n",
    "profile.log.likelihood<-function(b)\n",
    "{\n",
    "f<-function(parm_acd) \n",
    "    {\n",
    "    logistic.log.likelihood.int(c(parm_acd[1], b, \n",
    "        parm_acd[2], parm_acd[3]), dat=flowering)\n",
    "    }\n",
    "temp<-optim(c(0, 0, 0), f, control=list(fnscale=-1))\n",
    "return(temp$value)\n",
    "}"
   ]
  },
  {
   "cell_type": "markdown",
   "id": "b61ab0e0",
   "metadata": {},
   "source": [
    "And now we can evaluate the profile log-likelihood at $b=-0.03$:"
   ]
  },
  {
   "cell_type": "code",
   "execution_count": 13,
   "id": "80201089",
   "metadata": {},
   "outputs": [
    {
     "data": {
      "text/html": [
       "-19.3900959465847"
      ],
      "text/latex": [
       "-19.3900959465847"
      ],
      "text/markdown": [
       "-19.3900959465847"
      ],
      "text/plain": [
       "[1] -19.3901"
      ]
     },
     "metadata": {},
     "output_type": "display_data"
    }
   ],
   "source": [
    "# PROFILE LOG-LIKELIHOOD VALUE FOR b AT b=-0.03\n",
    "profile.log.likelihood(b=-0.03)"
   ]
  },
  {
   "cell_type": "markdown",
   "id": "d2fa2eaa",
   "metadata": {},
   "source": [
    "It is obvious that the profile log-likelihood is larger than the one from the wrong approach. Now we calculate the profile log-likelihood for a range of $b$ values. Note that each point on the profile log-likelihood is a partial optimisation: "
   ]
  },
  {
   "cell_type": "code",
   "execution_count": 14,
   "id": "1391d0ee",
   "metadata": {},
   "outputs": [
    {
     "data": {
      "image/png": "[encoded data removed]",
      "text/plain": [
       "plot without title"
      ]
     },
     "metadata": {},
     "output_type": "display_data"
    }
   ],
   "source": [
    "# PLOT THE PROFILE LOG-LIKELIHOOD FOR A RANGE OF b, USUALLY AROUND ITS MLE\n",
    "b<-seq(-0.19, -0.004, 0.002)\n",
    "profile.log.likelihood.value<-rep(NA, length(b))\n",
    "for (i in 1:length(b))\n",
    "{profile.log.likelihood.value[i]<-profile.log.likelihood(b[i])}\n",
    "\n",
    "# PLOT THE PROFILE LOG-LIKELIHOOD\n",
    "plot(b, profile.log.likelihood.value, type='l')\n",
    "# DRAW A HORIZONTAL LINE WHICH IS 1.92 UNITS BELOW THE MAXIMUM\n",
    "abline(h=M2$value-1.92, col='red', lty=2)"
   ]
  },
  {
   "cell_type": "markdown",
   "id": "e5c1d79b",
   "metadata": {},
   "source": [
    "The upper and lower C.I. are where the profile log-likelihood and the horizontal red dotted line (-1.92 units from the global peak) meet. You may use <code>uniroot()</code>, to find the two points (roots) if you are not satisfied with the eyeball method. The idea is to create a new function <code>f</code> which first calculates the relative log-likelihood (compared to the maximum), and then adds 1.92 units to it so <code>f</code> will become 0 when we are at the lower/upper C.I.. Besides, because there are two roots but <code>uniroot()</code> only gives you one at a time, you need to find the two bounds separately. For instance, the lower C.I. lies between -0.2 and the mle. "
   ]
  },
  {
   "cell_type": "code",
   "execution_count": 15,
   "id": "72e53eb2",
   "metadata": {},
   "outputs": [
    {
     "data": {
      "text/html": [
       "-0.183142757583504"
      ],
      "text/latex": [
       "-0.183142757583504"
      ],
      "text/markdown": [
       "-0.183142757583504"
      ],
      "text/plain": [
       "[1] -0.1831428"
      ]
     },
     "metadata": {},
     "output_type": "display_data"
    },
    {
     "data": {
      "text/html": [
       "-0.00722404760269605"
      ],
      "text/latex": [
       "-0.00722404760269605"
      ],
      "text/markdown": [
       "-0.00722404760269605"
      ],
      "text/plain": [
       "[1] -0.007224048"
      ]
     },
     "metadata": {},
     "output_type": "display_data"
    }
   ],
   "source": [
    "f<-function(b) {profile.log.likelihood(b)-M2$value+1.92}\n",
    "# LOWER C.I.\n",
    "uniroot(f, interval=c(-0.2, M2$par[2]))$root\n",
    "# UPPER C.I.\n",
    "uniroot(f, interval=c(M2$par[2], 0))$root"
   ]
  },
  {
   "cell_type": "markdown",
   "id": "083f9132",
   "metadata": {},
   "source": [
    "#### 5. C.I. for $b$ with normality\n",
    "Let us fit M2 again with <code>hessian=T</code>. "
   ]
  },
  {
   "cell_type": "code",
   "execution_count": 16,
   "id": "a2f4517d",
   "metadata": {},
   "outputs": [
    {
     "data": {
      "text/html": [
       "<table>\n",
       "<tbody>\n",
       "\t<tr><td>  -5.878141</td><td> -197.78814</td><td> -2.030139 </td><td>  -90.22500</td></tr>\n",
       "\t<tr><td>-197.788144</td><td>-8511.39907</td><td>-90.197652 </td><td>-4882.85554</td></tr>\n",
       "\t<tr><td>  -2.030139</td><td>  -90.19765</td><td> -1.073765 </td><td>  -62.28382</td></tr>\n",
       "\t<tr><td> -90.225002</td><td>-4882.85554</td><td>-62.283816 </td><td>-4112.10256</td></tr>\n",
       "</tbody>\n",
       "</table>\n"
      ],
      "text/latex": [
       "\\begin{tabular}{llll}\n",
       "\t   -5.878141 &  -197.78814 &  -2.030139  &   -90.22500\\\\\n",
       "\t -197.788144 & -8511.39907 & -90.197652  & -4882.85554\\\\\n",
       "\t   -2.030139 &   -90.19765 &  -1.073765  &   -62.28382\\\\\n",
       "\t  -90.225002 & -4882.85554 & -62.283816  & -4112.10256\\\\\n",
       "\\end{tabular}\n"
      ],
      "text/markdown": [
       "\n",
       "|   -5.878141 |  -197.78814 |  -2.030139  |   -90.22500 |\n",
       "| -197.788144 | -8511.39907 | -90.197652  | -4882.85554 |\n",
       "|   -2.030139 |   -90.19765 |  -1.073765  |   -62.28382 |\n",
       "|  -90.225002 | -4882.85554 | -62.283816  | -4112.10256 |\n",
       "\n"
      ],
      "text/plain": [
       "     [,1]        [,2]        [,3]       [,4]       \n",
       "[1,]   -5.878141  -197.78814  -2.030139   -90.22500\n",
       "[2,] -197.788144 -8511.39907 -90.197652 -4882.85554\n",
       "[3,]   -2.030139   -90.19765  -1.073765   -62.28382\n",
       "[4,]  -90.225002 -4882.85554 -62.283816 -4112.10256"
      ]
     },
     "metadata": {},
     "output_type": "display_data"
    }
   ],
   "source": [
    "# MAXIMISE THIS LOG-LIKELIHOOD IN THE FOUR-DIMENSIONAL PARAMETER SPACE\n",
    "M2<-optim(c(0,0,0,0), logistic.log.likelihood.int, \n",
    "          dat=flowering, control=list(fnscale=-1), hessian=T)\n",
    "M2$hessian"
   ]
  },
  {
   "cell_type": "markdown",
   "id": "7215c6ae",
   "metadata": {},
   "source": [
    "The variance-covariance matrix is the negative inverse of the Hessian matrix. Since $b$ is the second parameter its approximate variance is the [2,2] element, which is 0.00176. "
   ]
  },
  {
   "cell_type": "code",
   "execution_count": 17,
   "id": "7af02254",
   "metadata": {},
   "outputs": [
    {
     "data": {
      "text/html": [
       "<table>\n",
       "<tbody>\n",
       "\t<tr><td> 2.33215204  </td><td>-0.0270341898</td><td>-8.50149031  </td><td> 0.1096983538</td></tr>\n",
       "\t<tr><td>-0.02703419  </td><td> 0.0017612670</td><td>-0.08178689  </td><td>-0.0002594422</td></tr>\n",
       "\t<tr><td>-8.50149031  </td><td>-0.0817868894</td><td>61.12136432  </td><td>-0.6421219409</td></tr>\n",
       "\t<tr><td> 0.10969835  </td><td>-0.0002594422</td><td>-0.64212194  </td><td> 0.0078702049</td></tr>\n",
       "</tbody>\n",
       "</table>\n"
      ],
      "text/latex": [
       "\\begin{tabular}{llll}\n",
       "\t  2.33215204   & -0.0270341898 & -8.50149031   &  0.1096983538\\\\\n",
       "\t -0.02703419   &  0.0017612670 & -0.08178689   & -0.0002594422\\\\\n",
       "\t -8.50149031   & -0.0817868894 & 61.12136432   & -0.6421219409\\\\\n",
       "\t  0.10969835   & -0.0002594422 & -0.64212194   &  0.0078702049\\\\\n",
       "\\end{tabular}\n"
      ],
      "text/markdown": [
       "\n",
       "|  2.33215204   | -0.0270341898 | -8.50149031   |  0.1096983538 |\n",
       "| -0.02703419   |  0.0017612670 | -0.08178689   | -0.0002594422 |\n",
       "| -8.50149031   | -0.0817868894 | 61.12136432   | -0.6421219409 |\n",
       "|  0.10969835   | -0.0002594422 | -0.64212194   |  0.0078702049 |\n",
       "\n"
      ],
      "text/plain": [
       "     [,1]        [,2]          [,3]        [,4]         \n",
       "[1,]  2.33215204 -0.0270341898 -8.50149031  0.1096983538\n",
       "[2,] -0.02703419  0.0017612670 -0.08178689 -0.0002594422\n",
       "[3,] -8.50149031 -0.0817868894 61.12136432 -0.6421219409\n",
       "[4,]  0.10969835 -0.0002594422 -0.64212194  0.0078702049"
      ]
     },
     "metadata": {},
     "output_type": "display_data"
    }
   ],
   "source": [
    "# THE VARIRANCE-COVARIANCE MATRIX\n",
    "vcov<-(-1)*solve(M2$hessian)\n",
    "vcov"
   ]
  },
  {
   "cell_type": "code",
   "execution_count": 18,
   "id": "6f8b40d4",
   "metadata": {},
   "outputs": [
    {
     "data": {
      "text/html": [
       "-0.161149600567292"
      ],
      "text/latex": [
       "-0.161149600567292"
      ],
      "text/markdown": [
       "-0.161149600567292"
      ],
      "text/plain": [
       "[1] -0.1611496"
      ]
     },
     "metadata": {},
     "output_type": "display_data"
    },
    {
     "data": {
      "text/html": [
       "0.00336281076434371"
      ],
      "text/latex": [
       "0.00336281076434371"
      ],
      "text/markdown": [
       "0.00336281076434371"
      ],
      "text/plain": [
       "[1] 0.003362811"
      ]
     },
     "metadata": {},
     "output_type": "display_data"
    }
   ],
   "source": [
    "# LOWER C.I. FOR b\n",
    "M2$par[2]-1.96*sqrt(vcov[2,2])\n",
    "# UPPER C.I. FOR b\n",
    "M2$par[2]+1.96*sqrt(vcov[2,2])"
   ]
  },
  {
   "cell_type": "markdown",
   "id": "f6f60c32",
   "metadata": {},
   "source": [
    "#### 6. [Extra] Running the same analysis with glm()\n",
    "Unsurprisingly you can perform the same analysis with <code>glm()</code>. Let us fit M1 and M2 with <code>glm</code>:"
   ]
  },
  {
   "cell_type": "code",
   "execution_count": 19,
   "id": "39d9dd12",
   "metadata": {},
   "outputs": [
    {
     "data": {
      "text/plain": [
       "\n",
       "Call:\n",
       "glm(formula = State ~ Flowers + Root, family = \"binomial\", data = flowering)\n",
       "\n",
       "Deviance Residuals: \n",
       "    Min       1Q   Median       3Q      Max  \n",
       "-1.4296  -0.7899  -0.1879   0.7291   2.3596  \n",
       "\n",
       "Coefficients:\n",
       "            Estimate Std. Error z value Pr(>|z|)   \n",
       "(Intercept)  0.96152    0.61676   1.559  0.11900   \n",
       "Flowers     -0.10642    0.03343  -3.183  0.00146 **\n",
       "Root         6.60042    2.10051   3.142  0.00168 **\n",
       "---\n",
       "Signif. codes:  0 '***' 0.001 '**' 0.01 '*' 0.05 '.' 0.1 ' ' 1\n",
       "\n",
       "(Dispersion parameter for binomial family taken to be 1)\n",
       "\n",
       "    Null deviance: 78.903  on 58  degrees of freedom\n",
       "Residual deviance: 54.068  on 56  degrees of freedom\n",
       "AIC: 60.068\n",
       "\n",
       "Number of Fisher Scoring iterations: 6\n"
      ]
     },
     "metadata": {},
     "output_type": "display_data"
    }
   ],
   "source": [
    "# THE FIRST MODEL WITH THREE PARAMETERS. PARAMETER ESTIMATES ARE THE SAME AS ABOVE\n",
    "glm.M1<-glm(State~Flowers+Root, family='binomial', data=flowering)\n",
    "summary(glm.M1)"
   ]
  },
  {
   "cell_type": "code",
   "execution_count": 20,
   "id": "24f8e958",
   "metadata": {},
   "outputs": [
    {
     "name": "stderr",
     "output_type": "stream",
     "text": [
      "Warning message:\n",
      "\"glm.fit: fitted probabilities numerically 0 or 1 occurred\""
     ]
    },
    {
     "data": {
      "text/plain": [
       "\n",
       "Call:\n",
       "glm(formula = State ~ Flowers * Root, family = \"binomial\", data = flowering)\n",
       "\n",
       "Deviance Residuals: \n",
       "     Min        1Q    Median        3Q       Max  \n",
       "-1.74546  -0.44295  -0.03424   0.46458   2.69443  \n",
       "\n",
       "Coefficients:\n",
       "             Estimate Std. Error z value Pr(>|z|)   \n",
       "(Intercept)  -2.96010    1.53257  -1.931  0.05343 . \n",
       "Flowers      -0.07889    0.04197  -1.880  0.06013 . \n",
       "Root         25.14934    7.84162   3.207  0.00134 **\n",
       "Flowers:Root -0.20905    0.08930  -2.341  0.01924 * \n",
       "---\n",
       "Signif. codes:  0 '***' 0.001 '**' 0.01 '*' 0.05 '.' 0.1 ' ' 1\n",
       "\n",
       "(Dispersion parameter for binomial family taken to be 1)\n",
       "\n",
       "    Null deviance: 78.903  on 58  degrees of freedom\n",
       "Residual deviance: 37.128  on 55  degrees of freedom\n",
       "AIC: 45.128\n",
       "\n",
       "Number of Fisher Scoring iterations: 9\n"
      ]
     },
     "metadata": {},
     "output_type": "display_data"
    }
   ],
   "source": [
    "# THE SECOND MODEL WITH INTERACTION\n",
    "glm.M2<-glm(State~Flowers*Root, family='binomial', data=flowering)\n",
    "summary(glm.M2)"
   ]
  },
  {
   "cell_type": "markdown",
   "id": "c681d827",
   "metadata": {},
   "source": [
    "In defining the glm formula we use <code>State~Flowers*Root</code> to include the interaction term (with the main effects autoamtically included). The residual deviance reported in <code>glm()</code> is simply (-2) times the maximised log-likelihood. All parameter estimates are almost identical (rounding errors may exist). \n",
    "\n",
    "We compare the two models by <code>anova()</code> with a LRT:"
   ]
  },
  {
   "cell_type": "code",
   "execution_count": 21,
   "id": "8bed4773",
   "metadata": {},
   "outputs": [
    {
     "data": {
      "text/html": [
       "<table>\n",
       "<thead><tr><th scope=col>Resid. Df</th><th scope=col>Resid. Dev</th><th scope=col>Df</th><th scope=col>Deviance</th><th scope=col>Pr(&gt;Chi)</th></tr></thead>\n",
       "<tbody>\n",
       "\t<tr><td>56          </td><td>54.06811    </td><td>NA          </td><td>      NA    </td><td>          NA</td></tr>\n",
       "\t<tr><td>55          </td><td>37.12823    </td><td> 1          </td><td>16.93988    </td><td>3.858239e-05</td></tr>\n",
       "</tbody>\n",
       "</table>\n"
      ],
      "text/latex": [
       "\\begin{tabular}{r|lllll}\n",
       " Resid. Df & Resid. Dev & Df & Deviance & Pr(>Chi)\\\\\n",
       "\\hline\n",
       "\t 56           & 54.06811     & NA           &       NA     &           NA\\\\\n",
       "\t 55           & 37.12823     &  1           & 16.93988     & 3.858239e-05\\\\\n",
       "\\end{tabular}\n"
      ],
      "text/markdown": [
       "\n",
       "| Resid. Df | Resid. Dev | Df | Deviance | Pr(>Chi) |\n",
       "|---|---|---|---|---|\n",
       "| 56           | 54.06811     | NA           |       NA     |           NA |\n",
       "| 55           | 37.12823     |  1           | 16.93988     | 3.858239e-05 |\n",
       "\n"
      ],
      "text/plain": [
       "  Resid. Df Resid. Dev Df Deviance Pr(>Chi)    \n",
       "1 56        54.06811   NA       NA           NA\n",
       "2 55        37.12823    1 16.93988 3.858239e-05"
      ]
     },
     "metadata": {},
     "output_type": "display_data"
    }
   ],
   "source": [
    "# LRT FOR MODEL COMPARISON\n",
    "anova(glm.M1, glm.M2, test='LRT')"
   ]
  },
  {
   "cell_type": "markdown",
   "id": "1d5b6ccb",
   "metadata": {},
   "source": [
    "Aha! We meet our $D$ statistic again from the ANOVA table, with df=1. The small p-value confirms the significance of the interaction term.  "
   ]
  },
  {
   "cell_type": "markdown",
   "id": "dad99510",
   "metadata": {},
   "source": [
    "##### 7. [Extra] Profile and Wald C.I. with <code>glm()</code>\n",
    "I must admit that I seldom use <code>confint()</code> but my impression is that it performs profiling from <code>lm(), glm(), glmer()</code> objects. I think we got the same results here. "
   ]
  },
  {
   "cell_type": "code",
   "execution_count": 22,
   "id": "e8a3ee88",
   "metadata": {},
   "outputs": [
    {
     "name": "stderr",
     "output_type": "stream",
     "text": [
      "Waiting for profiling to be done...\n",
      "\n",
      "Parameter: Flowers down\n",
      "Warning message:\n",
      "\"glm.fit: fitted probabilities numerically 0 or 1 occurred\"Warning message:\n",
      "\"glm.fit: fitted probabilities numerically 0 or 1 occurred\"Warning message:\n",
      "\"glm.fit: fitted probabilities numerically 0 or 1 occurred\"\n",
      "Parameter: Flowers up\n",
      "Warning message:\n",
      "\"glm.fit: fitted probabilities numerically 0 or 1 occurred\"Warning message:\n",
      "\"glm.fit: fitted probabilities numerically 0 or 1 occurred\"Warning message:\n",
      "\"glm.fit: fitted probabilities numerically 0 or 1 occurred\"Warning message:\n",
      "\"glm.fit: fitted probabilities numerically 0 or 1 occurred\""
     ]
    },
    {
     "data": {
      "text/html": [
       "<dl class=dl-horizontal>\n",
       "\t<dt>2.5 %</dt>\n",
       "\t\t<dd>-0.18317660971252</dd>\n",
       "\t<dt>97.5 %</dt>\n",
       "\t\t<dd>-0.00721858109725761</dd>\n",
       "</dl>\n"
      ],
      "text/latex": [
       "\\begin{description*}\n",
       "\\item[2.5 \\textbackslash{}\\%] -0.18317660971252\n",
       "\\item[97.5 \\textbackslash{}\\%] -0.00721858109725761\n",
       "\\end{description*}\n"
      ],
      "text/markdown": [
       "2.5 %\n",
       ":   -0.1831766097125297.5 %\n",
       ":   -0.00721858109725761\n",
       "\n"
      ],
      "text/plain": [
       "       2.5 %       97.5 % \n",
       "-0.183176610 -0.007218581 "
      ]
     },
     "metadata": {},
     "output_type": "display_data"
    }
   ],
   "source": [
    "confint(glm.M2, 2, trace=T)"
   ]
  },
  {
   "cell_type": "markdown",
   "id": "dab8b9e3",
   "metadata": {},
   "source": [
    "For the Wald C.I. for $b$, its standard error is 0.04197 from <code>summary(M2)</code>. Note that 0.04197^2=0.00176 which is the [2,2] element of our variance-covariance matrix. "
   ]
  }
 ],
 "metadata": {
  "kernelspec": {
   "display_name": "R",
   "language": "R",
   "name": "ir"
  },
  "language_info": {
   "codemirror_mode": "r",
   "file_extension": ".r",
   "mimetype": "text/x-r-source",
   "name": "R",
   "pygments_lexer": "r",
   "version": "3.5.3"
  }
 },
 "nbformat": 4,
 "nbformat_minor": 5
}
