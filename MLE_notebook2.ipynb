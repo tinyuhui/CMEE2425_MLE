{
 "cells": [
  {
   "cell_type": "markdown",
   "id": "d0a47700-9acc-4653-83e6-9ebc4dbecc76",
   "metadata": {},
   "source": [
    "# MLE Notebook 2: Multivariate random variables, Likelihood functions\n",
    "### 0. Contents\n",
    "Multivariate random variables, joint probability density functions, bivariate normal, marginal and conditional distributions, Bayes' theorem, total law of expectation and variance, covariance and correlation, independence. \n",
    "\n",
    "Likelihood and log-likelihood function. Point estimation, maximisation by hand, maximisation by computer. MLE coin-tossing example, i.i.d. normal example. \n",
    "\n",
    "### 1. Multivariate random variables\n",
    "Quite often multiple r.v. are considered simultaneously in a system due to their interaction. For example, population sizes of the species within a predator-prey system, allele frequencies among tightly linked loci, traits within an individual, and many more. It is essential for us to extend the discussions of r.v. and pmf/pdf to multivariate cases. \n",
    "\n",
    "#### 1.1 Joint probability density functions\n",
    "Given a pair of r.v. $X$ and $Y$, the joint pmf/pdf is $f_{X,Y}(x,y)$, a higher-dimensional function. In this bivariate case the joint pdf can be visualised in the form of a 3D plot. Following the same rules as the univeriate case, $f_{X,Y}(x,y)$ must be non-negative, and must integrate to one: \n",
    "$$\\int\\int f_{X,Y}(x,y)dxdy=1$$\n",
    "\n",
    "##### 1.1.1 Bivariate normal random variables\n",
    "The support of a bivariate normal r.v. is the entire real number *plane*, or $\\Re^2$. In univariate normal we have two parameters $\\mu$ and $\\sigma^2$ which are both numbers. In bivariate normal we have the multivariate analogy of the two, but this time they are called the mean vector $\\boldsymbol{\\mu}=\\begin{pmatrix}\\mu_X \\\\ \\mu_Y \\end{pmatrix}$ and variance-covariance matrix $\\boldsymbol{\\Sigma}=\\begin{bmatrix}\\sigma_X^2 & \\rho \\sigma_X \\sigma_Y \\\\ \\rho \\sigma_X \\sigma_Y & \\sigma_Y^2 \\end{bmatrix}$. \n",
    "\n",
    "The entries of $\\boldsymbol{\\mu}$ and $\\boldsymbol{\\Sigma}$ are numbers. For instance, here we have the individual means and variances for $X$ and $Y$, and also $\\rho$ for the correlation between the two. Check the link below to visualise the joint pdf of a bivariate normal r.v.. \n",
    "\n",
    "http://socr.ucla.edu/htmls/HTML5/BivariateNormal/\n",
    "\n",
    "In general, for a $k$-dimensional multivariate normal, the mean vector is of length $k$, and the variance-covariance matrix is a $k$-by-$k$ symmetric and (semi)-postive definite matrix. Note that many applications rely on the decomposition of $\\boldsymbol{\\Sigma}$, such as Principal component analysis. \n",
    "\n",
    "#### 1.2 Marginal distributions\n",
    "Sometimes we are interested in one r.v. without referencing to the values of another. In this case the focus on finding the marginal distribution of the r.v. of interest. In a bivariate case with r.v. $X$ and $Y$ and their joint pdf $f_{X,Y}(x,y)$, the marginal pdf of $X$ is \n",
    "$$f_X(x)=\\int f_{X,Y}(x,y)dy$$\n",
    "The integration along the $y$ axis is to marginalise out (get rid of) the uninterested r.v. $Y$. As a result, there will be no $y$ left in $f_X(x)$. Similarly, we can integrate along the other axis to find $f_Y(y)$. Note that the marginal pdf is indeed a pdf therefore the properties we discussed yesterday remain applicable. \n",
    "\n",
    "#### 1.3 Conditional distributions\n",
    "If the value of r.v. $Y$ is known (i.e. we know $Y=y$) then this may give additional information on another r.v. $X$. The distribution of interest here is the conditional distribution of $X$ given $Y$: \n",
    "$$f_{X|Y}(x|y)=\\frac{f_{X,Y}(x,y)}{f_Y(y)}$$\n",
    "\n",
    "We can imagine $f_{X|Y}(x|y)$ as a slice of the joint pdf at $Y=y$ after normalisation. Of course we can find the conditional of $Y|X$ from the joint and the marginal of $X$. The following relationship is established: \n",
    "$$f_{X|Y}(x|y)f_Y(y)=f_{X,Y}(x,y)=f_{Y|X}(y|x)f_X(x)$$\n",
    "I hope some of you may notice that this is the Bayes' theorem. I trust that you will be exposed to the theorem and its applications next week hence I shall not go beyond this. The key here is learn how we can obtain one distribution from the others via the \"joint = marginal x conditional\" relationship. \n",
    "\n",
    "### 2. Expectation and covariance\n",
    "We can calculate expectations from the joint, conditional, or marginal distributions as before. With multiple r.v. come with more rules. \n",
    "\n",
    "#### 2.1 Law of total expectation\n",
    "Given two r.v. $X$ and $Y$, \n",
    "$$E[Y]=E[E(Y|X)]$$\n",
    "You first get the conditional expecation before taking another (outer) expectation to obtain the marginal expecation of $Y$. \n",
    "\n",
    "#### 2.2 Law of total variance\n",
    "$$Var[Y]=E[Var(Y|X)]+Var[E(Y|X)]$$\n",
    "which can be easily derived from the law of total expectation above. This is also called the \"Eve's formula\". \n",
    "\n",
    "#### 2.3 Covariance and corelation\n",
    "Covariance measures the joint variability of a pair of r.v.. Given $X$ and $Y$, \n",
    "$$cov[X,Y]=E[XY]-E[X]E[Y]$$\n",
    "where $E[XY]=\\int \\int xyf_{X,Y}(x,y)dxdy$. \n",
    "\n",
    "The correlation is the normalised measure describing the *linear* association between a pair of r.v.: \n",
    "$$corr[X,Y]=\\frac{cov[X,Y]}{Var[X]Var[Y]}$$\n",
    "which is always bounded between -1 and +1. Note that only linear association is captured by correlation. A pair of r.v. can have zero correlation but are perfectly \"related\" (e.g. they go around a circle). \n",
    "\n",
    "Yesterday we mentioned that expectation is linear, that is, $E[X+Y]=E[X]+E[Y]$. This is true regardless of their correlation. The same cannot be said for variance:\n",
    "$$Var[aX+bY]=a^2Var[X]+b^2Var[Y]+2abcov[X,Y]$$\n",
    "for some real numbers $a$ and $b$. \n",
    "\n",
    "### 3. Independence\n",
    "Independence is the strongest assumption in statistics as there is no way to test for it in real world. How can one confirm the toss of the first coin has nothing to do with the second? How can one be so certain that my action here will have zero influence to that by another person 1000 km away? Two events are independent if the occurrence of one does not affect the occurrence of another. \n",
    "\n",
    "If $X$ and $Y$ are independent then $corr[X,Y]=0$, but the reverse in not always true. In general $corr[X,Y]=0$ does not imply independence expect for some known cases (e.g. in multivariate normal). In fact, the assumption of independence is so strong that it guarantees $corr[g(x), h(y)]=0$ for all real functions $g$ and $h$ you can possibly imagine. \n",
    "\n",
    "#### 3.1 Joint probability density functions under independence\n",
    "$X$ and $Y$ are independent if and only if their joint pdf is the product of their marginals: \n",
    "$$f_{X,Y}(x,y)=f_X(x)f_Y(y)$$\n",
    "\n",
    "### Interval\n",
    "So far we have been discussing the properties of r.v., calculating probabilities and expectations etc. based on some given assumptions and fixed parameter value. A typical question would involve calculating the probability that 0, 1, 2 buses will arrive in the next unit of time. For example, if we assume the arrival of buses $X$ follow a Poisson distribution with $\\lambda=3$, then\n",
    "$$f_X(x, \\lambda=3)=\\frac{\\lambda^xe^{-\\lambda}}{x!}=\\frac{3^xe^{-3}}{x!}$$\n",
    "is a function of $x$ and a valid pmf. With known $/lambda$, we can calculate those probabilities by substituting $x=0$, $x=1$, and so on:"
   ]
  },
  {
   "cell_type": "code",
   "execution_count": 1,
   "id": "2e7aaf93-dd9f-4c23-885c-f6a7bc613bb2",
   "metadata": {},
   "outputs": [
    {
     "data": {
      "image/png": "[encoded data removed]",
      "text/plain": [
       "Plot with title \"pmf of Poisson with lambda=3\""
      ]
     },
     "metadata": {
      "image/png": {
       "height": 420,
       "width": 420
      }
     },
     "output_type": "display_data"
    }
   ],
   "source": [
    "probability<-dpois(0:15, lambda=3)\n",
    "barplot(probability, space=1, beside=F, xlab='x', ylab='probability', main='pmf of Poisson with lambda=3')\n",
    "axis(1, at=seq(1, 31, 2)+0.5, labels=0:15)"
   ]
  },
  {
   "cell_type": "markdown",
   "id": "b22d1d8d-ba0c-4f60-ad74-05f7bc8eecbf",
   "metadata": {},
   "source": [
    "From the pmf plot we know that $Pr(X=0)=0.0497$ and $Pr(X=1)=0.149$, and so on. Thur far there is no observation. We are still working out the probabilities of some potential outcomes inside our brain. We are still waiting for our bus. \n",
    "\n",
    "Now, the tide has turned that we actually have some data! Say we observed 3 buses within a unit time. This time we have $x=3$, but $\\lambda$ is unknown. From the same Poisson \"function\", \n",
    "$$f_X(x=3, \\lambda)=\\frac{\\lambda^xe^{-\\lambda}}{x!}=\\frac{\\lambda^3e^{-\\lambda}}{3!}$$\n",
    "it becomes a function of $\\lambda$ once the data is observed. One can plot this $f_X(x=3, \\lambda)$ against $\\lambda$, it is no longer a pmf (previously we plot it against $x$). By doing that, we are asking \"what is the proability of seeing 3 buses if $\\lambda=1$?\", and what if $\\lambda=1.5$? And so on. "
   ]
  },
  {
   "cell_type": "code",
   "execution_count": 2,
   "id": "b6e29652-654f-4e9a-b51b-3eefc02e3aeb",
   "metadata": {},
   "outputs": [
    {
     "data": {
      "image/png": "[encoded data removed]",
      "text/plain": [
       "Plot with title \"this is NOT a pdf/pmf\""
      ]
     },
     "metadata": {
      "image/png": {
       "height": 420,
       "width": 420
      }
     },
     "output_type": "display_data"
    }
   ],
   "source": [
    "plot(seq(0.1, 15, 0.01), dpois(3, lambda=seq(0.1, 15, 0.01)), type='l', lwd=2, \n",
    "     xlab='lambda', ylab='robability of seeing 3 buses at this lambda value', main='this is NOT a pdf/pmf')"
   ]
  },
  {
   "cell_type": "markdown",
   "id": "bd248b3c-7bbc-42d7-949e-ea25d4faf485",
   "metadata": {},
   "source": [
    "Essentially we are making inference on the unknown parameter from our observation. In the remaining sections of this notebook, we will formally introduce the likelihood framework for statistical inference. Welcome to the world of Statistics. \n",
    "\n",
    "### 4. Maximum Likelihood Estimation\n",
    "Many said Maximum Likelihood Estimation (MLE) was invented by Sir Ronald Fisher, but I (as a statistician and geneticist many degrees inferior to Fisher) argue that such idea needs no invention but rather has been embedded in everybody's mind since the beginning of civilisation. I sincerely hope that by the end of this week you will appreciate MLE as a collection of methods who share a common belief towards how the \"best parameters\" should behave. \n",
    "\n",
    "A distribution of a r.v., or a statistical model comes with parameters. When a *dataset* is collected, and a statistical *model* is proposed, MLE provides a set of rules to find the best estimates of the associated *parameters*. In words, MLE aims to find the parameter values that make the observed dataset most \"probable\". \n",
    "\n",
    "The triplets: data, model, parameters. \n",
    "\n",
    "#### 4.1 Likelihood function\n",
    "To quantify how \"probable\" a paramter value is in producing our observed data we introduce the likelihood function $L(\\underline{\\theta})$. From now on we use $\\underline{\\theta}$ to denote a vector of parameters simply for generalisation (and similarly $\\underline{x}$ for a vector of data). \n",
    "\n",
    "By definition, the likelihood function is the joint density (pdf) of our observation $\\underline{x}$:\n",
    "$$L(\\underline{\\theta})=L(\\underline{\\theta}|\\underline{x})=f(\\underline{x}|\\underline{\\theta})=f(x_1, x_2, ..., x_n|\\underline{\\theta})$$\n",
    "\n",
    "Once $\\underline{x}$ is observed, you may imagine that $\\underline{x}$ turn into real numbers, and $L(\\underline{\\theta}|\\underline{x})$ is a function of $\\underline{\\theta}$ only. We can evaluate $L(\\underline{\\theta}|\\underline{x})$ along $\\underline{\\theta}$, and find a $\\underline{\\hat{\\theta}}$ that maximises the function $L(\\underline{\\theta}|\\underline{x})$. This is the spirit of MLE. \n",
    "\n",
    "#### 4.2 Independent observations and log-likelihood\n",
    "The likelihood function is the joint pdf of our observations. If they are independent, then the joint pdf becomes the product of univariate pdfs: \n",
    "$$L(\\underline{\\theta}|\\underline{x})=f(x_1, x_2, ..., x_n|\\underline{\\theta})$$\n",
    "$$=f_{X_1}(x_1)f_{X_2}(x_2)...f_{X_n}(x_n)$$\n",
    "which streamlines the construction of the likelihood function. \n",
    "\n",
    "Besides, many prefers to work on the log-likelihood function $l(\\underline{\\theta}|\\underline{x})=\\ln(L(\\underline{\\theta}|\\underline{x}))$, as the product of pdfs immediately becomes the sum of log-pdfs. Both likelihood and log-likelihood functions attain their maximums at the same $\\underline{\\hat{\\theta}}$, because log is a monotonoic monotonic (also non-decreasing) function. \n",
    "\n",
    "In MLE, we treat parameters as fixed but unknown quantities to be estimated. We are inferring parameters, not the probability of hitting a particular outcome. The likelihood function is not a pdf hence does not integrate to one. It is a function of the parameters. \n",
    "\n",
    "#### 4.3 Coin tossing example (in R)\n",
    "Assume we obtain $y$ heads from $n$ independent tosses. By definition, the likelihood function is the joint pmf of these $n$ tosses, which looks like a binomial distribution: \n",
    "$$L(p|y)=C_y^np^y(1-p)^{n-y}$$\n",
    "\n",
    "After the experiment we observed 7 heads from 10 tosses. Let us put $y=7$ and $n=3$ into the likelihood function:\n",
    "$$L(p)=C^{10}_7p^7(1-p)^3$$\n",
    "We can rewrite this function in R. I cannot stress enough that the likelihood is a function of the parameter, as seen from <code><-function(p)</code>. We then plot the likelihood function against a range of values of $p$. Pay attention to the parameter space: $p$ is from Bernoulli hence it has to be bounded between 0 and 1. The second plot shows the log-likelihood function. "
   ]
  },
  {
   "cell_type": "code",
   "execution_count": 3,
   "id": "1fa9bd33-989c-4b7c-ab1a-b8dfc1e141fc",
   "metadata": {},
   "outputs": [
    {
     "data": {
      "text/html": [
       "8.748e-06"
      ],
      "text/latex": [
       "8.748e-06"
      ],
      "text/markdown": [
       "8.748e-06"
      ],
      "text/plain": [
       "[1] 8.748e-06"
      ]
     },
     "metadata": {},
     "output_type": "display_data"
    },
    {
     "data": {
      "image/png": "[encoded data removed]",
      "text/plain": [
       "plot without title"
      ]
     },
     "metadata": {
      "image/png": {
       "height": 420,
       "width": 420
      }
     },
     "output_type": "display_data"
    }
   ],
   "source": [
    "# WRITE DOWN THE LIKELIHOOD FUNCTION\n",
    "binomial.likelihood<-function(p){\n",
    "choose(10,7)*p^7*(1-p)^3\n",
    "}\n",
    "# LET US CALCULATE THE LIKELIHOOD VALUE AT p=0.1\n",
    "binomial.likelihood(p=0.1)\n",
    "# YOU GOT SOMETHING AROUND 8.748e-06, RIGHT?\n",
    "# PLOT THE LIKELIHOOD FUNCTION FOR A RANGE OF p\n",
    "p<-seq(0, 1, 0.01)\n",
    "likelihood.values<-binomial.likelihood(p)\n",
    "plot(p, likelihood.values, ylab='likelihood', type='l', lwd=2)\n",
    "abline(v=0.7, col='red', lty=2, lwd=2)"
   ]
  },
  {
   "cell_type": "code",
   "execution_count": 4,
   "id": "e5823a3b-2428-4026-a52b-bc42be055f1b",
   "metadata": {},
   "outputs": [
    {
     "data": {
      "image/png": "[encoded data removed]",
      "text/plain": [
       "plot without title"
      ]
     },
     "metadata": {
      "image/png": {
       "height": 420,
       "width": 420
      }
     },
     "output_type": "display_data"
    }
   ],
   "source": [
    "# LOG-LIKELIHOOD FUNCTION\n",
    "log.binomial.likelihood<-function(p){\n",
    "log(binomial.likelihood(p=p))\n",
    "}\n",
    "# PLOT THE LOG-LIKELIHOOD\n",
    "p<-seq(0, 1, 0.01)\n",
    "log.likelihood.values<-log.binomial.likelihood(p)\n",
    "plot(p, log.likelihood.values, ylab='log-likelihood', type='l', lwd=2)\n",
    "abline(v=0.7, col='red', lty=2, lwd=2)"
   ]
  },
  {
   "cell_type": "markdown",
   "id": "380233bb-9dee-4701-8bf3-718766a5b5c1",
   "metadata": {},
   "source": [
    "The next step is to find value of $p$ such that $L(p)$ is maximised. It appears that the peak is at 0.7, and we say $\\hat{p}=0.7$ is our maximum likelihood estimate. \n",
    "\n",
    "Beyond eyeballing, we can use R's optimisation routines to find the maixmum/minimum of a function. For univariate (one-parameter) case, we can use <code>optimize()</code>:"
   ]
  },
  {
   "cell_type": "code",
   "execution_count": 5,
   "id": "2f91947d-438f-43c4-a08d-94cc8d6ce358",
   "metadata": {},
   "outputs": [
    {
     "data": {
      "text/html": [
       "<dl>\n",
       "\t<dt>$maximum</dt>\n",
       "\t\t<dd>0.699984294307121</dd>\n",
       "\t<dt>$objective</dt>\n",
       "\t\t<dd>0.266827930432933</dd>\n",
       "</dl>\n"
      ],
      "text/latex": [
       "\\begin{description}\n",
       "\\item[\\$maximum] 0.699984294307121\n",
       "\\item[\\$objective] 0.266827930432933\n",
       "\\end{description}\n"
      ],
      "text/markdown": [
       "$maximum\n",
       ":   0.699984294307121\n",
       "$objective\n",
       ":   0.266827930432933\n",
       "\n",
       "\n"
      ],
      "text/plain": [
       "$maximum\n",
       "[1] 0.6999843\n",
       "\n",
       "$objective\n",
       "[1] 0.2668279\n"
      ]
     },
     "metadata": {},
     "output_type": "display_data"
    }
   ],
   "source": [
    "optimize(binomial.likelihood, interval=c(0,1), maximum=TRUE)"
   ]
  },
  {
   "cell_type": "markdown",
   "id": "24e07295-89e7-432a-adbb-3f1f97052aac",
   "metadata": {},
   "source": [
    "<code>\\$optimize()</code> returns the parameter value at which the function attains its maximum, where the <code>\\$objective</code> is the maximised function value. \n",
    "\n",
    "#### 4.4 Coin tossing example (by hand)\n",
    "For a more general case with $y$ heads from $n$ independent tosses the likelihood function is:\n",
    "$$L(p)=C_y^np^y(1-p)^{n-y}$$\n",
    "To maximise a function means to find the first derivative, then find the point with zero slope. Of course there are other conditions to meet (e.g. the second derivative) for the global maximum. Here, let us work on the log-likelihood:\n",
    "$$l(p)=\\ln(L(p))=\\ln(C_y^n)+y\\ln(p)+(n-y)\\ln(1-p)$$\n",
    "Next, we differentiate $l(p)$ *with respect to $p$*. Note that the first term $\\ln(C_y^n)$ does not contain $p$ thus is treated as a constant:\n",
    "$$l'(p)=0+y\\frac{1}{p}+(n-y)\\frac{-1}{1-p}$$\n",
    "Next, we find a $\\hat{p}$ such that $l'(\\hat{p})=0$:\n",
    "$$\\hat{p}=\\frac{y}{n}$$\n",
    "and we say this is the MLE for the (fixed but unknown) parameter $p$. \n",
    "\n",
    "#### 4.5 i.i.d. Normal samples with unknown $\\mu$\n",
    "Suppose we have $X_1, X_2, ..., X_n$ i.i.d. samples from $N(\\mu, 1)$. Variance is known but $\\mu$ is the parameter to be estimated. By definition, the likelihood is a function of $\\mu$, and is the joint pdf of our samples:\n",
    "$$L(\\mu)=f(x_1, x_2, ..., x_n)$$\n",
    "Here $f$ is a joint (higher-dimensional) pdf. As these samples are independent, the joint pdf becomes the product of individual pdfs:\n",
    "$$L(\\mu)=f_{X_1}(x_1)f_{X_2}(x_2)...f_{X_n}(x_n)$$\n",
    "Note that $f_{X_i}$ are individual (one-dimensional) pdfs. Next, we make use of the fact that they are i.i.d. normal: \n",
    "$$L(\\mu)=\\prod_{i=1}^n\\frac{1}{\\sqrt{2\\pi}}e^{\\frac{(x_i-\\mu)^2}{2}})$$\n",
    "$$=(\\frac{1}{\\sqrt{2\\pi}})^ne^{\\frac{1}{2}\\sum_{i=1}^n(x_i-\\mu)^2}$$\n",
    "The log-likelihood function is:\n",
    "$$l(\\mu)=constant-\\frac{1}{2}\\sum_{i=1}^n(x_i-\\mu)^2$$\n",
    "Next, differentiate it w.r.t. $\\mu$:\n",
    "$$l'(\\mu)=0-\\frac{1}{2}[-2\\sum_{i=1}^n(x_i-\\mu)]$$\n",
    "Find a value of $\\hat{\\mu}$ such that $l'(\\hat{\\mu})=0$. That is to solve the following equation:\n",
    "$$\\sum_{i=1}^n(x_i-\\hat{\\mu})=0$$\n",
    "Rearranging the terms gives:\n",
    "$$\\hat{\\mu}=\\frac{\\sum_{i=1}^nx_i}{n}$$\n",
    "And this is our MLE. \n",
    "\n",
    "#### 4.6 i.i.d. Normal samples unknown $\\mu$ and $\\sigma^2$\n",
    "With unknown $\\sigma^2$ the formulation of the log-likelihood function is the same as in the previous example but it is now a bivariate (two-paramter) function $l(\\mu, \\sigma^2)$. Because of this, the *partial* derivavtives $\\frac{\\partial l}{\\partial\\mu}$ and $\\frac{\\partial l}{\\partial\\sigma^2}$ need to be evaluated. A partial derivative is the derivative of a multivariate function with respect to one of the variables while treating the others as constant. At last, we need to find a pair of $(\\hat{\\mu}, \\hat{\\sigma^2})$ such that the partial derivatives are zero simultaneously. Again pay attention to the parameter space: $\\mu$ can be any real number, but $\\sigma^2$ (or $\\sigma$ itself) must be non-negative. I leave this as an exercise. "
   ]
  },
  {
   "cell_type": "code",
   "execution_count": null,
   "id": "c7bb908d-c04d-47c0-8281-a73199c05215",
   "metadata": {},
   "outputs": [],
   "source": []
  }
 ],
 "metadata": {
  "kernelspec": {
   "display_name": "R-4.3.1",
   "language": "R",
   "name": "ir"
  },
  "language_info": {
   "codemirror_mode": "r",
   "file_extension": ".r",
   "mimetype": "text/x-r-source",
   "name": "R",
   "pygments_lexer": "r",
   "version": "4.3.1"
  }
 },
 "nbformat": 4,
 "nbformat_minor": 5
}
